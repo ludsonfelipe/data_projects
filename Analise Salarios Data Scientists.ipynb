{
 "cells": [
  {
   "cell_type": "code",
   "execution_count": 1,
   "id": "95a301b7",
   "metadata": {},
   "outputs": [],
   "source": [
    "import pandas as pd\n",
    "import matplotlib.pyplot as plt\n",
    "import seaborn as sns\n",
    "import numpy as np\n",
    "pd.set_option('display.max_rows',40)"
   ]
  },
  {
   "cell_type": "markdown",
   "id": "2b09cb96",
   "metadata": {},
   "source": [
    "# Importando Dados"
   ]
  },
  {
   "cell_type": "code",
   "execution_count": 2,
   "id": "15b451e9",
   "metadata": {},
   "outputs": [],
   "source": [
    "df = pd.read_csv('C:/Users/felip/Desktop/Projetos/DataScientists Salary/Salary Dataset.csv')"
   ]
  },
  {
   "cell_type": "code",
   "execution_count": 3,
   "id": "aa969313",
   "metadata": {},
   "outputs": [
    {
     "data": {
      "text/html": [
       "<div>\n",
       "<style scoped>\n",
       "    .dataframe tbody tr th:only-of-type {\n",
       "        vertical-align: middle;\n",
       "    }\n",
       "\n",
       "    .dataframe tbody tr th {\n",
       "        vertical-align: top;\n",
       "    }\n",
       "\n",
       "    .dataframe thead th {\n",
       "        text-align: right;\n",
       "    }\n",
       "</style>\n",
       "<table border=\"1\" class=\"dataframe\">\n",
       "  <thead>\n",
       "    <tr style=\"text-align: right;\">\n",
       "      <th></th>\n",
       "      <th>Company Name</th>\n",
       "      <th>Job Title</th>\n",
       "      <th>Salaries Reported</th>\n",
       "      <th>Location</th>\n",
       "      <th>Salary</th>\n",
       "    </tr>\n",
       "  </thead>\n",
       "  <tbody>\n",
       "    <tr>\n",
       "      <th>0</th>\n",
       "      <td>Mu Sigma</td>\n",
       "      <td>Data Scientist</td>\n",
       "      <td>105.0</td>\n",
       "      <td>Bangalore</td>\n",
       "      <td>₹6,48,573/yr</td>\n",
       "    </tr>\n",
       "    <tr>\n",
       "      <th>1</th>\n",
       "      <td>IBM</td>\n",
       "      <td>Data Scientist</td>\n",
       "      <td>95.0</td>\n",
       "      <td>Bangalore</td>\n",
       "      <td>₹11,91,950/yr</td>\n",
       "    </tr>\n",
       "    <tr>\n",
       "      <th>2</th>\n",
       "      <td>Tata Consultancy Services</td>\n",
       "      <td>Data Scientist</td>\n",
       "      <td>66.0</td>\n",
       "      <td>Bangalore</td>\n",
       "      <td>₹8,36,874/yr</td>\n",
       "    </tr>\n",
       "    <tr>\n",
       "      <th>3</th>\n",
       "      <td>Impact Analytics</td>\n",
       "      <td>Data Scientist</td>\n",
       "      <td>40.0</td>\n",
       "      <td>Bangalore</td>\n",
       "      <td>₹6,69,578/yr</td>\n",
       "    </tr>\n",
       "    <tr>\n",
       "      <th>4</th>\n",
       "      <td>Accenture</td>\n",
       "      <td>Data Scientist</td>\n",
       "      <td>32.0</td>\n",
       "      <td>Bangalore</td>\n",
       "      <td>₹9,44,110/yr</td>\n",
       "    </tr>\n",
       "  </tbody>\n",
       "</table>\n",
       "</div>"
      ],
      "text/plain": [
       "                Company Name       Job Title  Salaries Reported   Location  \\\n",
       "0                   Mu Sigma  Data Scientist              105.0  Bangalore   \n",
       "1                        IBM  Data Scientist               95.0  Bangalore   \n",
       "2  Tata Consultancy Services  Data Scientist               66.0  Bangalore   \n",
       "3           Impact Analytics  Data Scientist               40.0  Bangalore   \n",
       "4                  Accenture  Data Scientist               32.0  Bangalore   \n",
       "\n",
       "          Salary  \n",
       "0   ₹6,48,573/yr  \n",
       "1  ₹11,91,950/yr  \n",
       "2   ₹8,36,874/yr  \n",
       "3   ₹6,69,578/yr  \n",
       "4   ₹9,44,110/yr  "
      ]
     },
     "execution_count": 3,
     "metadata": {},
     "output_type": "execute_result"
    }
   ],
   "source": [
    "df.head(5)"
   ]
  },
  {
   "cell_type": "code",
   "execution_count": 4,
   "id": "82401c4d",
   "metadata": {},
   "outputs": [
    {
     "data": {
      "text/plain": [
       "['Company Name', 'Job Title', 'Salaries Reported', 'Location', 'Salary']"
      ]
     },
     "execution_count": 4,
     "metadata": {},
     "output_type": "execute_result"
    }
   ],
   "source": [
    "df.columns.tolist()"
   ]
  },
  {
   "cell_type": "code",
   "execution_count": 5,
   "id": "4ac137cb",
   "metadata": {},
   "outputs": [],
   "source": [
    "colunas = ['Nome Da Empresa','Cargo','Frequencia Salarial','Localização','Salario']\n",
    "df.columns = colunas"
   ]
  },
  {
   "cell_type": "markdown",
   "id": "619c3a45",
   "metadata": {},
   "source": [
    "# Iniciando Preprocessamento"
   ]
  },
  {
   "cell_type": "code",
   "execution_count": 6,
   "id": "efa3e07b",
   "metadata": {},
   "outputs": [],
   "source": [
    "df_preprocessing = df.copy()"
   ]
  },
  {
   "cell_type": "code",
   "execution_count": 7,
   "id": "f8e1bea8",
   "metadata": {},
   "outputs": [
    {
     "data": {
      "text/html": [
       "<div>\n",
       "<style scoped>\n",
       "    .dataframe tbody tr th:only-of-type {\n",
       "        vertical-align: middle;\n",
       "    }\n",
       "\n",
       "    .dataframe tbody tr th {\n",
       "        vertical-align: top;\n",
       "    }\n",
       "\n",
       "    .dataframe thead th {\n",
       "        text-align: right;\n",
       "    }\n",
       "</style>\n",
       "<table border=\"1\" class=\"dataframe\">\n",
       "  <thead>\n",
       "    <tr style=\"text-align: right;\">\n",
       "      <th></th>\n",
       "      <th>Nome Da Empresa</th>\n",
       "      <th>Cargo</th>\n",
       "      <th>Frequencia Salarial</th>\n",
       "      <th>Localização</th>\n",
       "      <th>Salario</th>\n",
       "    </tr>\n",
       "  </thead>\n",
       "  <tbody>\n",
       "    <tr>\n",
       "      <th>0</th>\n",
       "      <td>Mu Sigma</td>\n",
       "      <td>Data Scientist</td>\n",
       "      <td>105.0</td>\n",
       "      <td>Bangalore</td>\n",
       "      <td>₹6,48,573/yr</td>\n",
       "    </tr>\n",
       "    <tr>\n",
       "      <th>1</th>\n",
       "      <td>IBM</td>\n",
       "      <td>Data Scientist</td>\n",
       "      <td>95.0</td>\n",
       "      <td>Bangalore</td>\n",
       "      <td>₹11,91,950/yr</td>\n",
       "    </tr>\n",
       "    <tr>\n",
       "      <th>2</th>\n",
       "      <td>Tata Consultancy Services</td>\n",
       "      <td>Data Scientist</td>\n",
       "      <td>66.0</td>\n",
       "      <td>Bangalore</td>\n",
       "      <td>₹8,36,874/yr</td>\n",
       "    </tr>\n",
       "    <tr>\n",
       "      <th>3</th>\n",
       "      <td>Impact Analytics</td>\n",
       "      <td>Data Scientist</td>\n",
       "      <td>40.0</td>\n",
       "      <td>Bangalore</td>\n",
       "      <td>₹6,69,578/yr</td>\n",
       "    </tr>\n",
       "    <tr>\n",
       "      <th>4</th>\n",
       "      <td>Accenture</td>\n",
       "      <td>Data Scientist</td>\n",
       "      <td>32.0</td>\n",
       "      <td>Bangalore</td>\n",
       "      <td>₹9,44,110/yr</td>\n",
       "    </tr>\n",
       "  </tbody>\n",
       "</table>\n",
       "</div>"
      ],
      "text/plain": [
       "             Nome Da Empresa           Cargo  Frequencia Salarial Localização  \\\n",
       "0                   Mu Sigma  Data Scientist                105.0   Bangalore   \n",
       "1                        IBM  Data Scientist                 95.0   Bangalore   \n",
       "2  Tata Consultancy Services  Data Scientist                 66.0   Bangalore   \n",
       "3           Impact Analytics  Data Scientist                 40.0   Bangalore   \n",
       "4                  Accenture  Data Scientist                 32.0   Bangalore   \n",
       "\n",
       "         Salario  \n",
       "0   ₹6,48,573/yr  \n",
       "1  ₹11,91,950/yr  \n",
       "2   ₹8,36,874/yr  \n",
       "3   ₹6,69,578/yr  \n",
       "4   ₹9,44,110/yr  "
      ]
     },
     "execution_count": 7,
     "metadata": {},
     "output_type": "execute_result"
    }
   ],
   "source": [
    "df_preprocessing.head()"
   ]
  },
  {
   "cell_type": "markdown",
   "id": "7bc1b662",
   "metadata": {},
   "source": [
    "## Verificando os tipos de moedas informadas para tratamento dos dados"
   ]
  },
  {
   "cell_type": "code",
   "execution_count": 8,
   "id": "5d3fc887",
   "metadata": {},
   "outputs": [
    {
     "data": {
      "text/html": [
       "<div>\n",
       "<style scoped>\n",
       "    .dataframe tbody tr th:only-of-type {\n",
       "        vertical-align: middle;\n",
       "    }\n",
       "\n",
       "    .dataframe tbody tr th {\n",
       "        vertical-align: top;\n",
       "    }\n",
       "\n",
       "    .dataframe thead th {\n",
       "        text-align: right;\n",
       "    }\n",
       "</style>\n",
       "<table border=\"1\" class=\"dataframe\">\n",
       "  <thead>\n",
       "    <tr style=\"text-align: right;\">\n",
       "      <th></th>\n",
       "      <th>Nome Da Empresa</th>\n",
       "      <th>Cargo</th>\n",
       "      <th>Frequencia Salarial</th>\n",
       "      <th>Localização</th>\n",
       "      <th>Salario</th>\n",
       "    </tr>\n",
       "  </thead>\n",
       "  <tbody>\n",
       "    <tr>\n",
       "      <th>415</th>\n",
       "      <td>ICICI Bank</td>\n",
       "      <td>Data Scientist</td>\n",
       "      <td>1.0</td>\n",
       "      <td>Bangalore</td>\n",
       "      <td>$2,24,948/yr</td>\n",
       "    </tr>\n",
       "  </tbody>\n",
       "</table>\n",
       "</div>"
      ],
      "text/plain": [
       "    Nome Da Empresa           Cargo  Frequencia Salarial Localização  \\\n",
       "415      ICICI Bank  Data Scientist                  1.0   Bangalore   \n",
       "\n",
       "          Salario  \n",
       "415  $2,24,948/yr  "
      ]
     },
     "execution_count": 8,
     "metadata": {},
     "output_type": "execute_result"
    }
   ],
   "source": [
    "# Verificando se existem moedas além das rupias indianas\n",
    "df_preprocessing[~df_preprocessing['Salario'].str.contains(\"₹\")].head(1)"
   ]
  },
  {
   "cell_type": "code",
   "execution_count": 9,
   "id": "a1195984",
   "metadata": {},
   "outputs": [
    {
     "data": {
      "text/html": [
       "<div>\n",
       "<style scoped>\n",
       "    .dataframe tbody tr th:only-of-type {\n",
       "        vertical-align: middle;\n",
       "    }\n",
       "\n",
       "    .dataframe tbody tr th {\n",
       "        vertical-align: top;\n",
       "    }\n",
       "\n",
       "    .dataframe thead th {\n",
       "        text-align: right;\n",
       "    }\n",
       "</style>\n",
       "<table border=\"1\" class=\"dataframe\">\n",
       "  <thead>\n",
       "    <tr style=\"text-align: right;\">\n",
       "      <th></th>\n",
       "      <th>Nome Da Empresa</th>\n",
       "      <th>Cargo</th>\n",
       "      <th>Frequencia Salarial</th>\n",
       "      <th>Localização</th>\n",
       "      <th>Salario</th>\n",
       "    </tr>\n",
       "  </thead>\n",
       "  <tbody>\n",
       "    <tr>\n",
       "      <th>415</th>\n",
       "      <td>ICICI Bank</td>\n",
       "      <td>Data Scientist</td>\n",
       "      <td>1.0</td>\n",
       "      <td>Bangalore</td>\n",
       "      <td>$2,24,948/yr</td>\n",
       "    </tr>\n",
       "    <tr>\n",
       "      <th>658</th>\n",
       "      <td>Infosys</td>\n",
       "      <td>Data Scientist</td>\n",
       "      <td>1.0</td>\n",
       "      <td>Bangalore</td>\n",
       "      <td>$5,11,613/yr</td>\n",
       "    </tr>\n",
       "    <tr>\n",
       "      <th>1096</th>\n",
       "      <td>Schlumberger</td>\n",
       "      <td>Data Scientist</td>\n",
       "      <td>1.0</td>\n",
       "      <td>Pune</td>\n",
       "      <td>$53,527/yr</td>\n",
       "    </tr>\n",
       "    <tr>\n",
       "      <th>1846</th>\n",
       "      <td>IBM</td>\n",
       "      <td>Data Scientist</td>\n",
       "      <td>1.0</td>\n",
       "      <td>Mumbai</td>\n",
       "      <td>$2,05,476/yr</td>\n",
       "    </tr>\n",
       "    <tr>\n",
       "      <th>1857</th>\n",
       "      <td>ABC</td>\n",
       "      <td>Data Scientist</td>\n",
       "      <td>1.0</td>\n",
       "      <td>Mumbai</td>\n",
       "      <td>$96,739/yr</td>\n",
       "    </tr>\n",
       "  </tbody>\n",
       "</table>\n",
       "</div>"
      ],
      "text/plain": [
       "     Nome Da Empresa           Cargo  Frequencia Salarial Localização  \\\n",
       "415       ICICI Bank  Data Scientist                  1.0   Bangalore   \n",
       "658          Infosys  Data Scientist                  1.0   Bangalore   \n",
       "1096    Schlumberger  Data Scientist                  1.0        Pune   \n",
       "1846             IBM  Data Scientist                  1.0      Mumbai   \n",
       "1857             ABC  Data Scientist                  1.0      Mumbai   \n",
       "\n",
       "           Salario  \n",
       "415   $2,24,948/yr  \n",
       "658   $5,11,613/yr  \n",
       "1096    $53,527/yr  \n",
       "1846  $2,05,476/yr  \n",
       "1857    $96,739/yr  "
      ]
     },
     "execution_count": 9,
     "metadata": {},
     "output_type": "execute_result"
    }
   ],
   "source": [
    "df_preprocessing[~df_preprocessing['Salario'].str.contains(\"AFN|₹|£\")].head()"
   ]
  },
  {
   "cell_type": "code",
   "execution_count": 10,
   "id": "1985e32e",
   "metadata": {},
   "outputs": [
    {
     "data": {
      "text/html": [
       "<div>\n",
       "<style scoped>\n",
       "    .dataframe tbody tr th:only-of-type {\n",
       "        vertical-align: middle;\n",
       "    }\n",
       "\n",
       "    .dataframe tbody tr th {\n",
       "        vertical-align: top;\n",
       "    }\n",
       "\n",
       "    .dataframe thead th {\n",
       "        text-align: right;\n",
       "    }\n",
       "</style>\n",
       "<table border=\"1\" class=\"dataframe\">\n",
       "  <thead>\n",
       "    <tr style=\"text-align: right;\">\n",
       "      <th></th>\n",
       "      <th>Nome Da Empresa</th>\n",
       "      <th>Cargo</th>\n",
       "      <th>Frequencia Salarial</th>\n",
       "      <th>Localização</th>\n",
       "      <th>Salario</th>\n",
       "    </tr>\n",
       "  </thead>\n",
       "  <tbody>\n",
       "    <tr>\n",
       "      <th>190</th>\n",
       "      <td>Simplilearn Solutions</td>\n",
       "      <td>Data Scientist</td>\n",
       "      <td>2.0</td>\n",
       "      <td>Bangalore</td>\n",
       "      <td>₹1,587/hr</td>\n",
       "    </tr>\n",
       "    <tr>\n",
       "      <th>196</th>\n",
       "      <td>SymphonyAI</td>\n",
       "      <td>Data Scientist</td>\n",
       "      <td>2.0</td>\n",
       "      <td>Bangalore</td>\n",
       "      <td>₹964/hr</td>\n",
       "    </tr>\n",
       "    <tr>\n",
       "      <th>263</th>\n",
       "      <td>GE</td>\n",
       "      <td>Data Scientist</td>\n",
       "      <td>2.0</td>\n",
       "      <td>Bangalore</td>\n",
       "      <td>₹835/hr</td>\n",
       "    </tr>\n",
       "    <tr>\n",
       "      <th>269</th>\n",
       "      <td>Ong &amp; Shan</td>\n",
       "      <td>Data Scientist</td>\n",
       "      <td>2.0</td>\n",
       "      <td>Bangalore</td>\n",
       "      <td>₹183/hr</td>\n",
       "    </tr>\n",
       "    <tr>\n",
       "      <th>478</th>\n",
       "      <td>Toptal</td>\n",
       "      <td>Data Scientist</td>\n",
       "      <td>1.0</td>\n",
       "      <td>Bangalore</td>\n",
       "      <td>₹1,500/hr</td>\n",
       "    </tr>\n",
       "  </tbody>\n",
       "</table>\n",
       "</div>"
      ],
      "text/plain": [
       "           Nome Da Empresa           Cargo  Frequencia Salarial Localização  \\\n",
       "190  Simplilearn Solutions  Data Scientist                  2.0   Bangalore   \n",
       "196             SymphonyAI  Data Scientist                  2.0   Bangalore   \n",
       "263                     GE  Data Scientist                  2.0   Bangalore   \n",
       "269             Ong & Shan  Data Scientist                  2.0   Bangalore   \n",
       "478                 Toptal  Data Scientist                  1.0   Bangalore   \n",
       "\n",
       "       Salario  \n",
       "190  ₹1,587/hr  \n",
       "196    ₹964/hr  \n",
       "263    ₹835/hr  \n",
       "269    ₹183/hr  \n",
       "478  ₹1,500/hr  "
      ]
     },
     "execution_count": 10,
     "metadata": {},
     "output_type": "execute_result"
    }
   ],
   "source": [
    "# Faremos o mesmo para a carga horaria de trabalho, pois temos dados de dias mês e ano\n",
    "df_preprocessing[~df_preprocessing['Salario'].str.contains(\"/yr|/mo\")].head(5)"
   ]
  },
  {
   "cell_type": "code",
   "execution_count": 11,
   "id": "76abe51f",
   "metadata": {},
   "outputs": [],
   "source": [
    "# Chegamos a conclusão que existem 4 tipos de moedas informadas no nosso dataset\n",
    "moedas = [('₹',0.013),('£',1.35),('\\$',1),('AFN',0.011)]"
   ]
  },
  {
   "cell_type": "code",
   "execution_count": 12,
   "id": "3722f8cb",
   "metadata": {},
   "outputs": [],
   "source": [
    "tempos = ['/yr','/hr','/mo']"
   ]
  },
  {
   "cell_type": "code",
   "execution_count": 13,
   "id": "dc32fd85",
   "metadata": {},
   "outputs": [],
   "source": [
    "# Removendo a virgula\n",
    "df_preprocessing['Salario'] = df_preprocessing['Salario'].str.replace(',','')"
   ]
  },
  {
   "cell_type": "code",
   "execution_count": 14,
   "id": "c0208518",
   "metadata": {},
   "outputs": [],
   "source": [
    "def convert(df,col='Salario',conversion_coin=1,conversion_time=1,coin='',time='',operation = 'div'):\n",
    "    \"\"\"Essa função converte as unidades de medida tempo e valor de uma determinada coluna\n",
    "    conversion_coin = Taxa de conversão de uma moeda para a outra\n",
    "    conversion_time = Taxa de conversão de um tempo para outro\n",
    "    coin = Simbolo da moeda a ser convertida\n",
    "    time = Tempo da moeda a ser convertida\"\"\"\n",
    "    re_expression = \"(?=.*{})(?=.*{})\".format(coin,time)            # Expressão regular que seleciona a moeda e o tempo escolhido\n",
    "    \n",
    "    index = df[df[col].str.contains(re_expression)].index.tolist()  # Salvamos os indices dos dados escolhidos\n",
    "    \n",
    "    df.loc[index,col] = df.loc[index,col].str.replace(coin,'')     # Removemos o simbolo da moeda\n",
    "     \n",
    "    df.loc[index,col] = df.loc[index,col].str.replace(time,'')     # Removemos o simbolo do tempo\n",
    "    \n",
    "    if operation == 'div':\n",
    "        df.loc[index,col] = ((df.loc[index,col].astype('float')/conversion_time)*conversion_coin).astype('str')       # Efetuamos a conversão de tempo e moeda\n",
    "    else:\n",
    "        df.loc[index,col] = ((df.loc[index,col].astype('float')*conversion_time)*conversion_coin).astype('str')\n",
    "    \n",
    "    return df\n"
   ]
  },
  {
   "cell_type": "code",
   "execution_count": 15,
   "id": "8c8056c9",
   "metadata": {},
   "outputs": [],
   "source": [
    "df_change_salary = df_preprocessing.copy()"
   ]
  },
  {
   "cell_type": "code",
   "execution_count": 16,
   "id": "5e375943",
   "metadata": {},
   "outputs": [
    {
     "data": {
      "text/html": [
       "<div>\n",
       "<style scoped>\n",
       "    .dataframe tbody tr th:only-of-type {\n",
       "        vertical-align: middle;\n",
       "    }\n",
       "\n",
       "    .dataframe tbody tr th {\n",
       "        vertical-align: top;\n",
       "    }\n",
       "\n",
       "    .dataframe thead th {\n",
       "        text-align: right;\n",
       "    }\n",
       "</style>\n",
       "<table border=\"1\" class=\"dataframe\">\n",
       "  <thead>\n",
       "    <tr style=\"text-align: right;\">\n",
       "      <th></th>\n",
       "      <th>Nome Da Empresa</th>\n",
       "      <th>Cargo</th>\n",
       "      <th>Frequencia Salarial</th>\n",
       "      <th>Localização</th>\n",
       "      <th>Salario</th>\n",
       "    </tr>\n",
       "  </thead>\n",
       "  <tbody>\n",
       "    <tr>\n",
       "      <th>0</th>\n",
       "      <td>Mu Sigma</td>\n",
       "      <td>Data Scientist</td>\n",
       "      <td>105.0</td>\n",
       "      <td>Bangalore</td>\n",
       "      <td>₹648573/yr</td>\n",
       "    </tr>\n",
       "    <tr>\n",
       "      <th>1</th>\n",
       "      <td>IBM</td>\n",
       "      <td>Data Scientist</td>\n",
       "      <td>95.0</td>\n",
       "      <td>Bangalore</td>\n",
       "      <td>₹1191950/yr</td>\n",
       "    </tr>\n",
       "    <tr>\n",
       "      <th>2</th>\n",
       "      <td>Tata Consultancy Services</td>\n",
       "      <td>Data Scientist</td>\n",
       "      <td>66.0</td>\n",
       "      <td>Bangalore</td>\n",
       "      <td>₹836874/yr</td>\n",
       "    </tr>\n",
       "    <tr>\n",
       "      <th>3</th>\n",
       "      <td>Impact Analytics</td>\n",
       "      <td>Data Scientist</td>\n",
       "      <td>40.0</td>\n",
       "      <td>Bangalore</td>\n",
       "      <td>₹669578/yr</td>\n",
       "    </tr>\n",
       "    <tr>\n",
       "      <th>4</th>\n",
       "      <td>Accenture</td>\n",
       "      <td>Data Scientist</td>\n",
       "      <td>32.0</td>\n",
       "      <td>Bangalore</td>\n",
       "      <td>₹944110/yr</td>\n",
       "    </tr>\n",
       "  </tbody>\n",
       "</table>\n",
       "</div>"
      ],
      "text/plain": [
       "             Nome Da Empresa           Cargo  Frequencia Salarial Localização  \\\n",
       "0                   Mu Sigma  Data Scientist                105.0   Bangalore   \n",
       "1                        IBM  Data Scientist                 95.0   Bangalore   \n",
       "2  Tata Consultancy Services  Data Scientist                 66.0   Bangalore   \n",
       "3           Impact Analytics  Data Scientist                 40.0   Bangalore   \n",
       "4                  Accenture  Data Scientist                 32.0   Bangalore   \n",
       "\n",
       "       Salario  \n",
       "0   ₹648573/yr  \n",
       "1  ₹1191950/yr  \n",
       "2   ₹836874/yr  \n",
       "3   ₹669578/yr  \n",
       "4   ₹944110/yr  "
      ]
     },
     "execution_count": 16,
     "metadata": {},
     "output_type": "execute_result"
    }
   ],
   "source": [
    "df_change_salary.head()"
   ]
  },
  {
   "cell_type": "code",
   "execution_count": 17,
   "id": "c39d6221",
   "metadata": {},
   "outputs": [
    {
     "name": "stderr",
     "output_type": "stream",
     "text": [
      "C:\\Users\\felip\\AppData\\Local\\Temp/ipykernel_10200/228985658.py:11: FutureWarning: The default value of regex will change from True to False in a future version.\n",
      "  df.loc[index,col] = df.loc[index,col].str.replace(coin,'')     # Removemos o simbolo da moeda\n"
     ]
    }
   ],
   "source": [
    "# CONVERT YR\n",
    "for moeda in moedas:\n",
    "    df_converted = convert(df_change_salary,col='Salario',conversion_coin=moeda[1],conversion_time=12,coin=moeda[0],time='/yr',operation='div')\n",
    "# CONVERT HR\n",
    "for moeda in moedas:\n",
    "    df_converted = convert(df_change_salary,col='Salario',conversion_coin=moeda[1],conversion_time=24*8,coin=moeda[0],time='/hr',operation='mult')\n",
    "# CONVERT MO\n",
    "for moeda in moedas:\n",
    "    df_converted = convert(df_change_salary,col='Salario',conversion_coin=moeda[1],conversion_time=1,coin=moeda[0],time='/mo',operation='mult')"
   ]
  },
  {
   "cell_type": "code",
   "execution_count": 18,
   "id": "4c6115e6",
   "metadata": {},
   "outputs": [
    {
     "data": {
      "text/html": [
       "<div>\n",
       "<style scoped>\n",
       "    .dataframe tbody tr th:only-of-type {\n",
       "        vertical-align: middle;\n",
       "    }\n",
       "\n",
       "    .dataframe tbody tr th {\n",
       "        vertical-align: top;\n",
       "    }\n",
       "\n",
       "    .dataframe thead th {\n",
       "        text-align: right;\n",
       "    }\n",
       "</style>\n",
       "<table border=\"1\" class=\"dataframe\">\n",
       "  <thead>\n",
       "    <tr style=\"text-align: right;\">\n",
       "      <th></th>\n",
       "      <th>Nome Da Empresa</th>\n",
       "      <th>Cargo</th>\n",
       "      <th>Frequencia Salarial</th>\n",
       "      <th>Localização</th>\n",
       "      <th>Salario</th>\n",
       "    </tr>\n",
       "  </thead>\n",
       "  <tbody>\n",
       "    <tr>\n",
       "      <th>0</th>\n",
       "      <td>Mu Sigma</td>\n",
       "      <td>Data Scientist</td>\n",
       "      <td>105.0</td>\n",
       "      <td>Bangalore</td>\n",
       "      <td>702.6207499999999</td>\n",
       "    </tr>\n",
       "    <tr>\n",
       "      <th>1</th>\n",
       "      <td>IBM</td>\n",
       "      <td>Data Scientist</td>\n",
       "      <td>95.0</td>\n",
       "      <td>Bangalore</td>\n",
       "      <td>1291.2791666666667</td>\n",
       "    </tr>\n",
       "    <tr>\n",
       "      <th>2</th>\n",
       "      <td>Tata Consultancy Services</td>\n",
       "      <td>Data Scientist</td>\n",
       "      <td>66.0</td>\n",
       "      <td>Bangalore</td>\n",
       "      <td>906.6134999999999</td>\n",
       "    </tr>\n",
       "    <tr>\n",
       "      <th>3</th>\n",
       "      <td>Impact Analytics</td>\n",
       "      <td>Data Scientist</td>\n",
       "      <td>40.0</td>\n",
       "      <td>Bangalore</td>\n",
       "      <td>725.3761666666666</td>\n",
       "    </tr>\n",
       "    <tr>\n",
       "      <th>4</th>\n",
       "      <td>Accenture</td>\n",
       "      <td>Data Scientist</td>\n",
       "      <td>32.0</td>\n",
       "      <td>Bangalore</td>\n",
       "      <td>1022.7858333333332</td>\n",
       "    </tr>\n",
       "  </tbody>\n",
       "</table>\n",
       "</div>"
      ],
      "text/plain": [
       "             Nome Da Empresa           Cargo  Frequencia Salarial Localização  \\\n",
       "0                   Mu Sigma  Data Scientist                105.0   Bangalore   \n",
       "1                        IBM  Data Scientist                 95.0   Bangalore   \n",
       "2  Tata Consultancy Services  Data Scientist                 66.0   Bangalore   \n",
       "3           Impact Analytics  Data Scientist                 40.0   Bangalore   \n",
       "4                  Accenture  Data Scientist                 32.0   Bangalore   \n",
       "\n",
       "              Salario  \n",
       "0   702.6207499999999  \n",
       "1  1291.2791666666667  \n",
       "2   906.6134999999999  \n",
       "3   725.3761666666666  \n",
       "4  1022.7858333333332  "
      ]
     },
     "execution_count": 18,
     "metadata": {},
     "output_type": "execute_result"
    }
   ],
   "source": [
    "df_converted.head()"
   ]
  },
  {
   "cell_type": "code",
   "execution_count": 19,
   "id": "4f3200c4",
   "metadata": {},
   "outputs": [],
   "source": [
    "df_converted['Salario'] = round(df_converted['Salario'].astype('float'),2)"
   ]
  },
  {
   "cell_type": "code",
   "execution_count": 20,
   "id": "66f95c92",
   "metadata": {},
   "outputs": [],
   "source": [
    "df_frequencys = df_converted[df_converted['Frequencia Salarial']!=1.0]"
   ]
  },
  {
   "cell_type": "code",
   "execution_count": 21,
   "id": "fe7a8de8",
   "metadata": {},
   "outputs": [],
   "source": [
    "import seaborn as sns \n",
    "import matplotlib.pyplot as plt "
   ]
  },
  {
   "cell_type": "code",
   "execution_count": 22,
   "id": "a072c7aa",
   "metadata": {},
   "outputs": [
    {
     "data": {
      "image/png": "[encoded data removed]",
      "text/plain": [
       "<Figure size 640x480 with 1 Axes>"
      ]
     },
     "metadata": {
      "needs_background": "light"
     },
     "output_type": "display_data"
    }
   ],
   "source": [
    "plt.figure(figsize=(8, 6), dpi=80)\n",
    "\n",
    "plt.boxplot(df_frequencys['Salario']);"
   ]
  },
  {
   "cell_type": "code",
   "execution_count": 23,
   "id": "6fb682c9",
   "metadata": {},
   "outputs": [
    {
     "data": {
      "text/plain": [
       "Nome Da Empresa          \n",
       "Tata Consultancy Services    26\n",
       "Amazon                       25\n",
       "Accenture                    21\n",
       "First Student                20\n",
       "IBM                          18\n",
       "                             ..\n",
       "HyperVerge                    1\n",
       "Hypersonix (CA)               1\n",
       "ICE Data Services             1\n",
       "IDFC First Bank               1\n",
       "wayForward                    1\n",
       "Length: 1030, dtype: int64"
      ]
     },
     "execution_count": 23,
     "metadata": {},
     "output_type": "execute_result"
    }
   ],
   "source": [
    "df_frequencys[['Nome Da Empresa']].value_counts()"
   ]
  },
  {
   "cell_type": "code",
   "execution_count": 24,
   "id": "94064656",
   "metadata": {},
   "outputs": [
    {
     "data": {
      "text/plain": [
       "Bangalore    672\n",
       "New Delhi    403\n",
       "Pune         256\n",
       "Mumbai       255\n",
       "Hyderabad    254\n",
       "Name: Localização, dtype: int64"
      ]
     },
     "execution_count": 24,
     "metadata": {},
     "output_type": "execute_result"
    }
   ],
   "source": [
    "df_frequencys['Localização'].value_counts()[:]"
   ]
  },
  {
   "cell_type": "code",
   "execution_count": null,
   "id": "6d1c53a4",
   "metadata": {},
   "outputs": [],
   "source": [
    "df_frequencys."
   ]
  },
  {
   "cell_type": "code",
   "execution_count": null,
   "id": "968366f2",
   "metadata": {},
   "outputs": [],
   "source": []
  },
  {
   "cell_type": "code",
   "execution_count": null,
   "id": "38511e82",
   "metadata": {},
   "outputs": [],
   "source": []
  },
  {
   "cell_type": "code",
   "execution_count": null,
   "id": "e4ad9e90",
   "metadata": {},
   "outputs": [],
   "source": []
  },
  {
   "cell_type": "code",
   "execution_count": null,
   "id": "febd4abd",
   "metadata": {},
   "outputs": [],
   "source": [
    "# Etapa 1: Analisar tipos de dados e criar colunas necessárias\n",
    "# Etapa 2: Converter todos salarios para mesma unidade de medida\n",
    "# Etapa 3: Criar uma colunas Float para os salarios\n",
    "# Etapa 4: Converter todos salarios para real em uma nova coluna\n",
    "# Etapa 5: Eliminar os outliers\n",
    "# Etapa 6: Eliminar os dados que não serão uteis"
   ]
  },
  {
   "cell_type": "code",
   "execution_count": null,
   "id": "e291fa94",
   "metadata": {},
   "outputs": [],
   "source": [
    "# Quantas empresas temos \n",
    "# Qual empresa paga mais e qual paga menos\n",
    "# Qual a confiança dessas informações \n",
    "# Quais cargos essas empresas pagam mais e quais cargos pagam menos\n",
    "# \n",
    "# \n",
    "#\n",
    "# Comparar se o salario é bom perante o custo de vida"
   ]
  }
 ],
 "metadata": {
  "kernelspec": {
   "display_name": "Python 3 (ipykernel)",
   "language": "python",
   "name": "python3"
  },
  "language_info": {
   "codemirror_mode": {
    "name": "ipython",
    "version": 3
   },
   "file_extension": ".py",
   "mimetype": "text/x-python",
   "name": "python",
   "nbconvert_exporter": "python",
   "pygments_lexer": "ipython3",
   "version": "3.9.7"
  },
  "toc": {
   "base_numbering": 1,
   "nav_menu": {},
   "number_sections": true,
   "sideBar": true,
   "skip_h1_title": false,
   "title_cell": "Table of Contents",
   "title_sidebar": "Contents",
   "toc_cell": false,
   "toc_position": {},
   "toc_section_display": true,
   "toc_window_display": false
  }
 },
 "nbformat": 4,
 "nbformat_minor": 5
}
